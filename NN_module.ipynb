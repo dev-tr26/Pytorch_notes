{
  "nbformat": 4,
  "nbformat_minor": 0,
  "metadata": {
    "colab": {
      "provenance": []
    },
    "kernelspec": {
      "name": "python3",
      "display_name": "Python 3"
    },
    "language_info": {
      "name": "python"
    }
  },
  "cells": [
    {
      "cell_type": "code",
      "execution_count": null,
      "metadata": {
        "id": "j2gaCfluS5E0"
      },
      "outputs": [],
      "source": [
        "import torch\n",
        "import torch.nn as nn"
      ]
    },
    {
      "cell_type": "code",
      "source": [
        " # we need to inherit it from a base class\n",
        "class Model(nn.Module):\n",
        "  def __init__(self, input_features):\n",
        "    super().__init__()\n",
        "    self.linear = nn.Linear(input_features, 1) # i/p , o/p\n",
        "    self.sigmoid = nn.Sigmoid()\n",
        "\n",
        "\n",
        "  def forward(self, features):  # calculate o/p when features are passed in forward pass\n",
        "    out = self.linear(features)\n",
        "    out = self.sigmoid(out)\n",
        "\n",
        "    return out"
      ],
      "metadata": {
        "id": "uomt_s-MTqEq"
      },
      "execution_count": null,
      "outputs": []
    },
    {
      "cell_type": "code",
      "source": [
        "# create dataset\n",
        "features = torch.rand(10,5)\n",
        "\n",
        "# create model\n",
        "torch.manual_seed(32)\n",
        "model = Model(features.shape[1])\n",
        "\n",
        "# call model for forward pass\n",
        "\n",
        "# model.forward(features) # can do this but pytorch recommends to use this\n",
        "# as magic method __call__ is overwritten by fun that whenever a obj of this class is called forward method is autometiclally triggered\n",
        "model(features)\n"
      ],
      "metadata": {
        "id": "0yg9Ju5STqHA",
        "colab": {
          "base_uri": "https://localhost:8080/"
        },
        "outputId": "44bd9a55-9eaa-4239-da68-f8592bd78955"
      },
      "execution_count": null,
      "outputs": [
        {
          "output_type": "execute_result",
          "data": {
            "text/plain": [
              "tensor([[0.6780],\n",
              "        [0.6089],\n",
              "        [0.6372],\n",
              "        [0.6056],\n",
              "        [0.6314],\n",
              "        [0.6617],\n",
              "        [0.6321],\n",
              "        [0.6888],\n",
              "        [0.5605],\n",
              "        [0.5645]], grad_fn=<SigmoidBackward0>)"
            ]
          },
          "metadata": {},
          "execution_count": 3
        }
      ]
    },
    {
      "cell_type": "code",
      "source": [
        "# show weights\n",
        "print(model.linear.weight)\n",
        "print(model.linear.bias)"
      ],
      "metadata": {
        "id": "clrq4BdtTqJV",
        "colab": {
          "base_uri": "https://localhost:8080/"
        },
        "outputId": "4ef91ed3-6b33-402f-988f-1deff0e30139"
      },
      "execution_count": null,
      "outputs": [
        {
          "output_type": "stream",
          "name": "stdout",
          "text": [
            "Parameter containing:\n",
            "tensor([[ 0.0885, -0.1874, -0.2128,  0.2955,  0.1812]], requires_grad=True)\n",
            "Parameter containing:\n",
            "tensor([0.4293], requires_grad=True)\n"
          ]
        }
      ]
    },
    {
      "cell_type": "code",
      "source": [
        "!pip install torchinfo\n",
        "from torchinfo import summary\n",
        "\n",
        "summary(model,input_size=(10,5))"
      ],
      "metadata": {
        "id": "W_nZpz4tTqMF",
        "colab": {
          "base_uri": "https://localhost:8080/"
        },
        "outputId": "674405cd-b06c-4e9e-8261-838cbdf60440"
      },
      "execution_count": null,
      "outputs": [
        {
          "output_type": "stream",
          "name": "stdout",
          "text": [
            "Requirement already satisfied: torchinfo in /usr/local/lib/python3.11/dist-packages (1.8.0)\n"
          ]
        },
        {
          "output_type": "execute_result",
          "data": {
            "text/plain": [
              "==========================================================================================\n",
              "Layer (type:depth-idx)                   Output Shape              Param #\n",
              "==========================================================================================\n",
              "Model                                    [10, 1]                   --\n",
              "├─Linear: 1-1                            [10, 1]                   6\n",
              "├─Sigmoid: 1-2                           [10, 1]                   --\n",
              "==========================================================================================\n",
              "Total params: 6\n",
              "Trainable params: 6\n",
              "Non-trainable params: 0\n",
              "Total mult-adds (Units.MEGABYTES): 0.00\n",
              "==========================================================================================\n",
              "Input size (MB): 0.00\n",
              "Forward/backward pass size (MB): 0.00\n",
              "Params size (MB): 0.00\n",
              "Estimated Total Size (MB): 0.00\n",
              "=========================================================================================="
            ]
          },
          "metadata": {},
          "execution_count": 5
        }
      ]
    },
    {
      "cell_type": "code",
      "source": [
        "class Model(nn.Module):\n",
        "  def __init__(self, input_features):\n",
        "\n",
        "    super().__init__()\n",
        "    self.layer1 = nn.Linear(input_features, 3)\n",
        "    self.relu = nn.ReLU()\n",
        "    self.layer2 = nn.Linear(3, 1)\n",
        "    self.sigmoid = nn.Sigmoid()\n",
        "\n",
        "  def forward(self, features):\n",
        "    out = self.layer1(features)\n",
        "    out = self.relu(out)\n",
        "    out = self.layer2(out)\n",
        "    out = self.sigmoid(out)\n",
        "\n",
        "    return out;\n",
        "\n",
        "\n",
        "# Example:\n",
        "features = torch.rand(10, 5)  # batch_size = 10, input_features = 5"
      ],
      "metadata": {
        "id": "6KqAaDBpTqPB"
      },
      "execution_count": null,
      "outputs": []
    },
    {
      "cell_type": "code",
      "source": [
        "torch.manual_seed(42)\n",
        "# Create model\n",
        "model1 = Model(input_features=5)"
      ],
      "metadata": {
        "id": "KyRDWLsWe3ER"
      },
      "execution_count": null,
      "outputs": []
    },
    {
      "cell_type": "code",
      "source": [
        "# Call the forward_pass directly\n",
        "output = model1(features)"
      ],
      "metadata": {
        "id": "8orEnJwNe2-B"
      },
      "execution_count": null,
      "outputs": []
    },
    {
      "cell_type": "code",
      "source": [
        "print(\"Output:\", output)"
      ],
      "metadata": {
        "id": "03rzvkOjTqUy",
        "colab": {
          "base_uri": "https://localhost:8080/"
        },
        "outputId": "bdbdca45-97c3-4379-8135-f82e60f73305"
      },
      "execution_count": null,
      "outputs": [
        {
          "output_type": "stream",
          "name": "stdout",
          "text": [
            "Output: tensor([[0.4451],\n",
            "        [0.4404],\n",
            "        [0.4267],\n",
            "        [0.4730],\n",
            "        [0.4470],\n",
            "        [0.4408],\n",
            "        [0.4408],\n",
            "        [0.4206],\n",
            "        [0.4670],\n",
            "        [0.4409]], grad_fn=<SigmoidBackward0>)\n"
          ]
        }
      ]
    },
    {
      "cell_type": "code",
      "source": [
        "print(\"Layer 1 weights:\", model1.layer1.weight)\n",
        "print(\"Layer 1 bias:\", model1.layer1.bias)"
      ],
      "metadata": {
        "id": "VNTuKw8gTqSF",
        "colab": {
          "base_uri": "https://localhost:8080/"
        },
        "outputId": "3a560a60-4e5e-40ee-f092-cc266a22e0b9"
      },
      "execution_count": null,
      "outputs": [
        {
          "output_type": "stream",
          "name": "stdout",
          "text": [
            "Layer 1 weights: Parameter containing:\n",
            "tensor([[ 0.3419,  0.3712, -0.1048,  0.4108, -0.0980],\n",
            "        [ 0.0902, -0.2177,  0.2626,  0.3942, -0.3281],\n",
            "        [ 0.3887,  0.0837,  0.3304,  0.0606,  0.2156]], requires_grad=True)\n",
            "Layer 1 bias: Parameter containing:\n",
            "tensor([-0.0631,  0.3448,  0.0661], requires_grad=True)\n"
          ]
        }
      ]
    },
    {
      "cell_type": "code",
      "source": [
        "print(\"Layer 2 weights:\", model1.layer2.weight)\n",
        "print(\"Layer 2 bias:\", model1.layer2.bias)"
      ],
      "metadata": {
        "id": "0w-1iE0uTqaY",
        "colab": {
          "base_uri": "https://localhost:8080/"
        },
        "outputId": "3a8fe523-4159-4dc1-802e-56feac65916e"
      },
      "execution_count": null,
      "outputs": [
        {
          "output_type": "stream",
          "name": "stdout",
          "text": [
            "Layer 2 weights: Parameter containing:\n",
            "tensor([[-0.2695,  0.1472, -0.2660]], requires_grad=True)\n",
            "Layer 2 bias: Parameter containing:\n",
            "tensor([-0.0677], requires_grad=True)\n"
          ]
        }
      ]
    },
    {
      "cell_type": "code",
      "source": [
        "from torchinfo import summary\n",
        "summary(model1, input_size=(10,5))"
      ],
      "metadata": {
        "id": "Hiy9QFMhZZIm",
        "colab": {
          "base_uri": "https://localhost:8080/"
        },
        "outputId": "a904a088-9ffc-4d3e-82a0-e482a87efa4f"
      },
      "execution_count": null,
      "outputs": [
        {
          "output_type": "execute_result",
          "data": {
            "text/plain": [
              "==========================================================================================\n",
              "Layer (type:depth-idx)                   Output Shape              Param #\n",
              "==========================================================================================\n",
              "Model                                    [10, 1]                   --\n",
              "├─Linear: 1-1                            [10, 3]                   18\n",
              "├─ReLU: 1-2                              [10, 3]                   --\n",
              "├─Linear: 1-3                            [10, 1]                   4\n",
              "├─Sigmoid: 1-4                           [10, 1]                   --\n",
              "==========================================================================================\n",
              "Total params: 22\n",
              "Trainable params: 22\n",
              "Non-trainable params: 0\n",
              "Total mult-adds (Units.MEGABYTES): 0.00\n",
              "==========================================================================================\n",
              "Input size (MB): 0.00\n",
              "Forward/backward pass size (MB): 0.00\n",
              "Params size (MB): 0.00\n",
              "Estimated Total Size (MB): 0.00\n",
              "=========================================================================================="
            ]
          },
          "metadata": {},
          "execution_count": 12
        }
      ]
    },
    {
      "cell_type": "code",
      "source": [
        "# super().__init__()\n",
        "# self.network= nn.Sequential(\n",
        "#     nn.Linear(input_features),\n",
        "#     nn.ReLU(),\n",
        "#     nn.Linear(num_features,3),\n",
        "#     nn.Sigmoid()\n",
        "# )\n",
        "\n",
        "# def forward(self, features):\n",
        "#   output = self.network(features)\n",
        "#   return output"
      ],
      "metadata": {
        "id": "YpaUEM78TqdI"
      },
      "execution_count": null,
      "outputs": []
    },
    {
      "cell_type": "code",
      "source": [],
      "metadata": {
        "id": "hsV_9QS2TqgQ"
      },
      "execution_count": null,
      "outputs": []
    },
    {
      "cell_type": "code",
      "source": [],
      "metadata": {
        "id": "_Ez8P9quTqjK"
      },
      "execution_count": null,
      "outputs": []
    },
    {
      "cell_type": "code",
      "source": [],
      "metadata": {
        "id": "9nkMqbNITql6"
      },
      "execution_count": null,
      "outputs": []
    },
    {
      "cell_type": "code",
      "source": [],
      "metadata": {
        "id": "ztnZVgQRTqo6"
      },
      "execution_count": null,
      "outputs": []
    },
    {
      "cell_type": "code",
      "source": [],
      "metadata": {
        "id": "0z5NVFGrTqrY"
      },
      "execution_count": null,
      "outputs": []
    },
    {
      "cell_type": "code",
      "source": [],
      "metadata": {
        "id": "werRZu1dTquz"
      },
      "execution_count": null,
      "outputs": []
    }
  ]
}