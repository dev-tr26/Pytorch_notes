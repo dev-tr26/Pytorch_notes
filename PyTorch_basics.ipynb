{
  "nbformat": 4,
  "nbformat_minor": 0,
  "metadata": {
    "colab": {
      "provenance": [],
      "gpuType": "T4"
    },
    "kernelspec": {
      "name": "python3",
      "display_name": "Python 3"
    },
    "language_info": {
      "name": "python"
    },
    "accelerator": "GPU"
  },
  "cells": [
    {
      "cell_type": "markdown",
      "source": [
        "# **1. Tensors**\n"
      ],
      "metadata": {
        "id": "L-TOytlmzozV"
      }
    },
    {
      "cell_type": "markdown",
      "source": [
        "everything in pytorch is based on tensor operations . A tensor is muilti dimensional matrix containing elements of a single datatype."
      ],
      "metadata": {
        "id": "QhOrbG_lzvis"
      }
    },
    {
      "cell_type": "code",
      "source": [
        "import torch\n",
        "print(torch.__version__)"
      ],
      "metadata": {
        "colab": {
          "base_uri": "https://localhost:8080/"
        },
        "id": "UlE0j6YaolKU",
        "outputId": "913715fa-3963-42ea-ca67-5a67a0708a95"
      },
      "execution_count": 1,
      "outputs": [
        {
          "output_type": "stream",
          "name": "stdout",
          "text": [
            "2.6.0+cu124\n"
          ]
        }
      ]
    },
    {
      "cell_type": "code",
      "source": [
        "if torch.cuda.is_available():\n",
        "  print(\"GPU is available\")\n",
        "  print(f'Using GPU:{torch.cuda.get_device_name(0)}')\n",
        "else:\n",
        "  print(\"Gpu is not available\")"
      ],
      "metadata": {
        "colab": {
          "base_uri": "https://localhost:8080/"
        },
        "id": "EpzFnqKmoro-",
        "outputId": "5f656dca-7242-4322-d876-bb8b7b44ef1c"
      },
      "execution_count": 2,
      "outputs": [
        {
          "output_type": "stream",
          "name": "stdout",
          "text": [
            "GPU is available\n",
            "Using GPU:Tesla T4\n"
          ]
        }
      ]
    },
    {
      "cell_type": "code",
      "execution_count": 3,
      "metadata": {
        "id": "7tekxHBqU577",
        "colab": {
          "base_uri": "https://localhost:8080/"
        },
        "outputId": "766af147-792e-4119-c1dd-0f90a494f74b"
      },
      "outputs": [
        {
          "output_type": "stream",
          "name": "stdout",
          "text": [
            "empty(1): tensor([5.0657e+08])\n",
            "empty(3): tensor([1.9485e-15, 0.0000e+00, 5.0657e+08])\n",
            "empty(2,3): tensor([[1.9467e-15, 0.0000e+00, 1.9467e-15],\n",
            "        [0.0000e+00, 0.0000e+00, 4.1877e-38]])\n",
            "empty(2,2,3): tensor([[[1.9739e-15, 0.0000e+00, 0.0000e+00],\n",
            "         [2.3510e-38, 1.2530e-18, 0.0000e+00]],\n",
            "\n",
            "        [[1.0842e-19, 0.0000e+00, 1.3563e-19],\n",
            "         [1.3563e-19, 1.3563e-19, 1.3563e-19]]])\n",
            "tensor([ 0,  1,  2,  3,  4,  5,  6,  7,  8,  9, 10, 11])\n",
            "rand(5,3) tensor([[0.7617, 0.5767, 0.9991],\n",
            "        [0.6425, 0.5068, 0.5859],\n",
            "        [0.6570, 0.1552, 0.7416],\n",
            "        [0.2921, 0.4567, 0.6201],\n",
            "        [0.9313, 0.0370, 0.8441]])\n",
            "zeros(5,3) tensor([[0., 0., 0.],\n",
            "        [0., 0., 0.],\n",
            "        [0., 0., 0.],\n",
            "        [0., 0., 0.],\n",
            "        [0., 0., 0.]])\n"
          ]
        }
      ],
      "source": [
        "\n",
        "\n",
        "# torch.empty(size): uninitialised\n",
        "x = torch.empty(1) # scaler\n",
        "print(\"empty(1):\", x)\n",
        "x =torch.empty(3) # vector\n",
        "print(\"empty(3):\", x)\n",
        "x = torch.empty(2,3) # matrix\n",
        "print(\"empty(2,3):\", x)\n",
        "x = torch.empty(2,2,3) # tensor 3d\n",
        "# x = torch.empty(2,2,2,3) # tensor 4d\n",
        "print(\"empty(2,2,3):\",x)\n",
        "\n",
        "tensor = torch.arange(12)  # A tensor with values [0, 1, 2, ..., 11]\n",
        "print(tensor)\n",
        "\n",
        "\n",
        "#torch.rand(size) random numbers [0,1]\n",
        "x =torch.rand(5, 3)\n",
        "print(\"rand(5,3)\", x)\n",
        "\n",
        "\n",
        "# torch.zeros(size), fill with 0\n",
        "# torch.ones(size), fill with 1\n",
        "x =torch.zeros(5,3)\n",
        "print(\"zeros(5,3)\", x)\n",
        "\n",
        "#  torch.tensor() creates a tensor of default dtype int64"
      ]
    },
    {
      "cell_type": "code",
      "source": [
        "#other ways\n",
        "\n",
        "#arange [star,end,jump)\n",
        "print(\"using arange\", torch.arange(0,10,2))\n",
        "\n",
        "#using linspace [start,end,no of linearly spaced pts)\n",
        "print(\"using linspace\", torch.linspace(0,10,10))\n",
        "\n",
        "#using eye identity matrix\n",
        "print(\"using eye\",torch.eye(5))\n",
        "\n",
        "#full\n",
        "print(\"using full\", torch.full((3,3),5))"
      ],
      "metadata": {
        "colab": {
          "base_uri": "https://localhost:8080/"
        },
        "id": "mznlFERuqOAj",
        "outputId": "109a88fa-e47e-4ca7-8878-69f489837684"
      },
      "execution_count": 4,
      "outputs": [
        {
          "output_type": "stream",
          "name": "stdout",
          "text": [
            "using arange tensor([0, 2, 4, 6, 8])\n",
            "using linspace tensor([ 0.0000,  1.1111,  2.2222,  3.3333,  4.4444,  5.5556,  6.6667,  7.7778,\n",
            "         8.8889, 10.0000])\n",
            "using eye tensor([[1., 0., 0., 0., 0.],\n",
            "        [0., 1., 0., 0., 0.],\n",
            "        [0., 0., 1., 0., 0.],\n",
            "        [0., 0., 0., 1., 0.],\n",
            "        [0., 0., 0., 0., 1.]])\n",
            "using full tensor([[5, 5, 5],\n",
            "        [5, 5, 5],\n",
            "        [5, 5, 5]])\n"
          ]
        }
      ]
    },
    {
      "cell_type": "code",
      "source": [
        "# for keeping same values\n",
        "\n",
        "c = torch.rand(5,3)\n",
        "print(c)\n",
        "torch.manual_seed(100)\n",
        "c = torch.rand(5,3)\n",
        "print(c)"
      ],
      "metadata": {
        "colab": {
          "base_uri": "https://localhost:8080/"
        },
        "id": "-ENYXUQDpfXD",
        "outputId": "04921fae-22ca-4c0c-d517-9e06b4540d36"
      },
      "execution_count": 5,
      "outputs": [
        {
          "output_type": "stream",
          "name": "stdout",
          "text": [
            "tensor([[0.6336, 0.0638, 0.8866],\n",
            "        [0.7158, 0.4696, 0.4318],\n",
            "        [0.6549, 0.2429, 0.3758],\n",
            "        [0.6588, 0.8170, 0.1887],\n",
            "        [0.2604, 0.3164, 0.9882]])\n",
            "tensor([[0.1117, 0.8158, 0.2626],\n",
            "        [0.4839, 0.6765, 0.7539],\n",
            "        [0.2627, 0.0428, 0.2080],\n",
            "        [0.1180, 0.1217, 0.7356],\n",
            "        [0.7118, 0.7876, 0.4183]])\n"
          ]
        }
      ]
    },
    {
      "cell_type": "code",
      "source": [
        "#check size\n",
        "print(\"size\", x.size())  # x.size(0) for accessing specific dimension\n",
        "print(\"shape\", x.shape) # x.shape[0] for accessing specific dimension\n",
        "\n",
        "# for creating same shaped tensor with diff values\n",
        "print(torch.empty_like(x))\n",
        "print(torch.ones_like(x))\n",
        "print(torch.zeros_like(x))\n",
        "\n",
        "# torch.rand_like(x) # wont work as .rand generates floats b/ 0 and 1 so we ve to define explictly\n",
        "print(torch.rand_like(x, dtype= torch.float32))"
      ],
      "metadata": {
        "colab": {
          "base_uri": "https://localhost:8080/"
        },
        "id": "u19ENqJlzhTJ",
        "outputId": "b130cadb-19df-42b0-dcf5-750868a38a95"
      },
      "execution_count": 6,
      "outputs": [
        {
          "output_type": "stream",
          "name": "stdout",
          "text": [
            "size torch.Size([5, 3])\n",
            "shape torch.Size([5, 3])\n",
            "tensor([[5.0657e+08, 4.5174e-41, 1.9468e-15],\n",
            "        [0.0000e+00, 1.9605e-15, 0.0000e+00],\n",
            "        [1.9796e-15, 0.0000e+00, 0.0000e+00],\n",
            "        [0.0000e+00, 1.9954e-15, 0.0000e+00],\n",
            "        [2.1423e-16, 0.0000e+00, 9.9671e+03]])\n",
            "tensor([[1., 1., 1.],\n",
            "        [1., 1., 1.],\n",
            "        [1., 1., 1.],\n",
            "        [1., 1., 1.],\n",
            "        [1., 1., 1.]])\n",
            "tensor([[0., 0., 0.],\n",
            "        [0., 0., 0.],\n",
            "        [0., 0., 0.],\n",
            "        [0., 0., 0.],\n",
            "        [0., 0., 0.]])\n",
            "tensor([[0.9014, 0.9969, 0.7565],\n",
            "        [0.2239, 0.3023, 0.1784],\n",
            "        [0.8238, 0.5557, 0.9770],\n",
            "        [0.4440, 0.9478, 0.7445],\n",
            "        [0.4892, 0.2426, 0.7003]])\n"
          ]
        }
      ]
    },
    {
      "cell_type": "code",
      "source": [
        "#check dtype\n",
        "\n",
        "print(x.dtype)\n",
        "\n",
        "#specify types float32 deafult\n",
        "x = torch.zeros(5,3, dtype=torch.float16)\n",
        "y = torch.tensor([[2,3,4],[4,6,7],[8,8,6]], dtype=torch.float32)\n",
        "print(x)\n",
        "print(y)\n",
        "\n",
        "#check dtype\n",
        "print(x.dtype)\n",
        "print(y.dtype)\n",
        "\n",
        "# already existing tensor change datatype\n",
        "# using to()\n",
        "y.to(torch.int16)"
      ],
      "metadata": {
        "colab": {
          "base_uri": "https://localhost:8080/"
        },
        "id": "j6nmc1AVzhWJ",
        "outputId": "25e53704-3ef9-42d9-c286-918aace98a25"
      },
      "execution_count": 7,
      "outputs": [
        {
          "output_type": "stream",
          "name": "stdout",
          "text": [
            "torch.float32\n",
            "tensor([[0., 0., 0.],\n",
            "        [0., 0., 0.],\n",
            "        [0., 0., 0.],\n",
            "        [0., 0., 0.],\n",
            "        [0., 0., 0.]], dtype=torch.float16)\n",
            "tensor([[2., 3., 4.],\n",
            "        [4., 6., 7.],\n",
            "        [8., 8., 6.]])\n",
            "torch.float16\n",
            "torch.float32\n"
          ]
        },
        {
          "output_type": "execute_result",
          "data": {
            "text/plain": [
              "tensor([[2, 3, 4],\n",
              "        [4, 6, 7],\n",
              "        [8, 8, 6]], dtype=torch.int16)"
            ]
          },
          "metadata": {},
          "execution_count": 7
        }
      ]
    },
    {
      "cell_type": "code",
      "source": [
        "# construct from data\n",
        "x = torch.tensor([5.5, 3])\n",
        "print(x, x.dtype)\n"
      ],
      "metadata": {
        "colab": {
          "base_uri": "https://localhost:8080/"
        },
        "id": "HSH_rDb5zhYo",
        "outputId": "fceb277c-a101-425c-ec91-e6e0b6745e38"
      },
      "execution_count": 8,
      "outputs": [
        {
          "output_type": "stream",
          "name": "stdout",
          "text": [
            "tensor([5.5000, 3.0000]) torch.float32\n"
          ]
        }
      ]
    },
    {
      "cell_type": "code",
      "source": [
        "# requires_grad argument\n",
        "# this will tell pytorch that it will need to calculate the gradient for this tensor\n",
        "# later in your optimization steps\n",
        "# i.e this is a variable in your model that you want to optimize\n",
        "x = torch.tensor([5.5, 3], requires_grad=True)\n",
        "print(x)"
      ],
      "metadata": {
        "colab": {
          "base_uri": "https://localhost:8080/"
        },
        "id": "lGeiYkMjzhbo",
        "outputId": "25aa50e5-f0d6-447d-fd74-c7daa35b4a11"
      },
      "execution_count": 9,
      "outputs": [
        {
          "output_type": "stream",
          "name": "stdout",
          "text": [
            "tensor([5.5000, 3.0000], requires_grad=True)\n"
          ]
        }
      ]
    },
    {
      "cell_type": "markdown",
      "source": [
        "## **operations with tensors**"
      ],
      "metadata": {
        "id": "h_zvD-jn3lWg"
      }
    },
    {
      "cell_type": "code",
      "source": [
        "x =torch.ones(4,5)\n",
        "y =torch.rand(4,5)\n",
        "\n",
        "#elementary addition\n",
        "z = x + y\n",
        "torch.add(x,y)\n",
        "\n",
        "print(x)\n",
        "print(y)\n",
        "print(z)"
      ],
      "metadata": {
        "colab": {
          "base_uri": "https://localhost:8080/"
        },
        "id": "1omR9MYvzheq",
        "outputId": "611b9645-5421-42b7-b7ce-7ce63a14c74c"
      },
      "execution_count": 10,
      "outputs": [
        {
          "output_type": "stream",
          "name": "stdout",
          "text": [
            "tensor([[1., 1., 1., 1., 1.],\n",
            "        [1., 1., 1., 1., 1.],\n",
            "        [1., 1., 1., 1., 1.],\n",
            "        [1., 1., 1., 1., 1.]])\n",
            "tensor([[0.5277, 0.2472, 0.7909, 0.4235, 0.0169],\n",
            "        [0.2209, 0.9535, 0.7064, 0.1629, 0.8902],\n",
            "        [0.5163, 0.0359, 0.6476, 0.3430, 0.3182],\n",
            "        [0.5261, 0.0447, 0.5123, 0.9051, 0.5989]])\n",
            "tensor([[1.5277, 1.2472, 1.7909, 1.4235, 1.0169],\n",
            "        [1.2209, 1.9535, 1.7064, 1.1629, 1.8902],\n",
            "        [1.5163, 1.0359, 1.6476, 1.3430, 1.3182],\n",
            "        [1.5261, 1.0447, 1.5123, 1.9051, 1.5989]])\n"
          ]
        }
      ]
    },
    {
      "cell_type": "markdown",
      "source": [
        "**in place addition, everything with a trailing underscore is inplace operation\n",
        "i.e it will modify the variable**"
      ],
      "metadata": {
        "id": "lY4oXZ8fEQFk"
      }
    },
    {
      "cell_type": "code",
      "source": [
        "# result is stored in y only so that new space is not occupied\n",
        "y.add_(x)\n",
        "print(y)"
      ],
      "metadata": {
        "colab": {
          "base_uri": "https://localhost:8080/"
        },
        "id": "mUYHabZ5EP30",
        "outputId": "48875fdd-f154-4bed-f2c5-d50d53b2bfd3"
      },
      "execution_count": 11,
      "outputs": [
        {
          "output_type": "stream",
          "name": "stdout",
          "text": [
            "tensor([[1.5277, 1.2472, 1.7909, 1.4235, 1.0169],\n",
            "        [1.2209, 1.9535, 1.7064, 1.1629, 1.8902],\n",
            "        [1.5163, 1.0359, 1.6476, 1.3430, 1.3182],\n",
            "        [1.5261, 1.0447, 1.5123, 1.9051, 1.5989]])\n"
          ]
        }
      ]
    },
    {
      "cell_type": "code",
      "source": [
        "torch.relu(x)"
      ],
      "metadata": {
        "colab": {
          "base_uri": "https://localhost:8080/"
        },
        "id": "E03Yr0VHFBFu",
        "outputId": "5b055847-1b7a-495a-cdc7-1d3151a15079"
      },
      "execution_count": 12,
      "outputs": [
        {
          "output_type": "execute_result",
          "data": {
            "text/plain": [
              "tensor([[1., 1., 1., 1., 1.],\n",
              "        [1., 1., 1., 1., 1.],\n",
              "        [1., 1., 1., 1., 1.],\n",
              "        [1., 1., 1., 1., 1.]])"
            ]
          },
          "metadata": {},
          "execution_count": 12
        }
      ]
    },
    {
      "cell_type": "code",
      "source": [
        "x.relu_() # inplace operation"
      ],
      "metadata": {
        "colab": {
          "base_uri": "https://localhost:8080/"
        },
        "id": "Wpb9PTJDFIIz",
        "outputId": "d0b03984-db10-42c4-ac82-93abc216ad8b"
      },
      "execution_count": 13,
      "outputs": [
        {
          "output_type": "execute_result",
          "data": {
            "text/plain": [
              "tensor([[1., 1., 1., 1., 1.],\n",
              "        [1., 1., 1., 1., 1.],\n",
              "        [1., 1., 1., 1., 1.],\n",
              "        [1., 1., 1., 1., 1.]])"
            ]
          },
          "metadata": {},
          "execution_count": 13
        }
      ]
    },
    {
      "cell_type": "code",
      "source": [
        "z = x - y\n",
        "z = torch.sub(x,y)\n",
        "\n",
        "z = x * y\n",
        "z = torch.mul(x,y)\n",
        "\n",
        "z = x / y\n",
        "z = torch.div(x,y)\n",
        "\n",
        "#int divison\n",
        "d = (x * 100)//3\n",
        "print(d)\n",
        "\n",
        "#mod\n",
        "e = (x * 132) % 3\n",
        "print(e)\n",
        "\n",
        "#pow\n",
        "z = x**2\n",
        "print(z)\n",
        "\n",
        "print(f\"element wise op,{x ** y}\")"
      ],
      "metadata": {
        "colab": {
          "base_uri": "https://localhost:8080/"
        },
        "id": "FW2AW0x1zhhz",
        "outputId": "eb304886-5efe-4581-8c45-f400b5391502"
      },
      "execution_count": 14,
      "outputs": [
        {
          "output_type": "stream",
          "name": "stdout",
          "text": [
            "tensor([[33., 33., 33., 33., 33.],\n",
            "        [33., 33., 33., 33., 33.],\n",
            "        [33., 33., 33., 33., 33.],\n",
            "        [33., 33., 33., 33., 33.]])\n",
            "tensor([[0., 0., 0., 0., 0.],\n",
            "        [0., 0., 0., 0., 0.],\n",
            "        [0., 0., 0., 0., 0.],\n",
            "        [0., 0., 0., 0., 0.]])\n",
            "tensor([[1., 1., 1., 1., 1.],\n",
            "        [1., 1., 1., 1., 1.],\n",
            "        [1., 1., 1., 1., 1.],\n",
            "        [1., 1., 1., 1., 1.]])\n",
            "element wise op,tensor([[1., 1., 1., 1., 1.],\n",
            "        [1., 1., 1., 1., 1.],\n",
            "        [1., 1., 1., 1., 1.],\n",
            "        [1., 1., 1., 1., 1.]])\n"
          ]
        }
      ]
    },
    {
      "cell_type": "code",
      "source": [
        "s = torch.tensor([-2, 4, 67.89 ,5.33 ,7 ,-3.76, -4, -23])\n",
        "\n",
        "print(torch.abs(s))\n",
        "print(torch.neg(s))\n",
        "print(torch.round(s))\n",
        "print(torch.ceil(s))\n",
        "print(torch.floor(s))\n",
        "\n",
        "# clamp numbers between a range\n",
        "print(torch.clamp(s, min=10, max =20))"
      ],
      "metadata": {
        "colab": {
          "base_uri": "https://localhost:8080/"
        },
        "id": "xsSRP6Rs0YTh",
        "outputId": "0dbebc42-1013-47cd-b801-0dd5b45f8d06"
      },
      "execution_count": 15,
      "outputs": [
        {
          "output_type": "stream",
          "name": "stdout",
          "text": [
            "tensor([ 2.0000,  4.0000, 67.8900,  5.3300,  7.0000,  3.7600,  4.0000, 23.0000])\n",
            "tensor([  2.0000,  -4.0000, -67.8900,  -5.3300,  -7.0000,   3.7600,   4.0000,\n",
            "         23.0000])\n",
            "tensor([ -2.,   4.,  68.,   5.,   7.,  -4.,  -4., -23.])\n",
            "tensor([ -2.,   4.,  68.,   6.,   7.,  -3.,  -4., -23.])\n",
            "tensor([ -2.,   4.,  67.,   5.,   7.,  -4.,  -4., -23.])\n",
            "tensor([10., 10., 20., 10., 10., 10., 10., 10.])\n"
          ]
        }
      ]
    },
    {
      "cell_type": "markdown",
      "source": [
        "##**Reduction operation**"
      ],
      "metadata": {
        "id": "G9dAN-_W8RsS"
      }
    },
    {
      "cell_type": "code",
      "source": [
        "g = torch.randint(size=(2,3), low=0, high=10, dtype= torch.float32)\n",
        "g"
      ],
      "metadata": {
        "colab": {
          "base_uri": "https://localhost:8080/"
        },
        "id": "jAZhMCR98QMb",
        "outputId": "d09a6124-25f9-44fb-e040-89a98dc325d3"
      },
      "execution_count": 16,
      "outputs": [
        {
          "output_type": "execute_result",
          "data": {
            "text/plain": [
              "tensor([[7., 9., 2.],\n",
              "        [6., 7., 7.]])"
            ]
          },
          "metadata": {},
          "execution_count": 16
        }
      ]
    },
    {
      "cell_type": "code",
      "source": [
        "# sum of whole tensor\n",
        "print(torch.sum(g))\n",
        "\n",
        "# sum along row\n",
        "print(torch.sum(g, dim=1))\n",
        "\n",
        "# sum along col\n",
        "print(torch.sum(g, dim=0))"
      ],
      "metadata": {
        "colab": {
          "base_uri": "https://localhost:8080/"
        },
        "id": "IP57eoke89IK",
        "outputId": "553fc8ad-18b4-4f2e-d73e-6bbdf60015ee"
      },
      "execution_count": 17,
      "outputs": [
        {
          "output_type": "stream",
          "name": "stdout",
          "text": [
            "tensor(38.)\n",
            "tensor([18., 20.])\n",
            "tensor([13., 16.,  9.])\n"
          ]
        }
      ]
    },
    {
      "cell_type": "code",
      "source": [
        "print(torch.mean(g)) # mean works on float only\n",
        "print(torch.mean(g, dim=1))\n"
      ],
      "metadata": {
        "colab": {
          "base_uri": "https://localhost:8080/"
        },
        "id": "QufYSwmI9aMj",
        "outputId": "a7fcac5c-7da3-41e4-a02b-ff211083c5eb"
      },
      "execution_count": 18,
      "outputs": [
        {
          "output_type": "stream",
          "name": "stdout",
          "text": [
            "tensor(6.3333)\n",
            "tensor([6.0000, 6.6667])\n"
          ]
        }
      ]
    },
    {
      "cell_type": "code",
      "source": [
        "# similarly median , max, min, product, standard diveation, argmax, argmin, etc\n",
        "\n",
        "print(torch.median(g))\n",
        "print(torch.max(g))\n",
        "print(torch.min(g))\n",
        "print(torch.prod(g))\n",
        "print(torch.std(g))\n",
        "print(torch.var(g))\n",
        "print(torch.argmax(g))  # tells max item position\n",
        "print(torch.argmin(g))  # tells min item position"
      ],
      "metadata": {
        "colab": {
          "base_uri": "https://localhost:8080/"
        },
        "id": "d-th_vqr-Dgm",
        "outputId": "8634f825-57a6-435b-c37c-efa295fac1e0"
      },
      "execution_count": 19,
      "outputs": [
        {
          "output_type": "stream",
          "name": "stdout",
          "text": [
            "tensor(7.)\n",
            "tensor(9.)\n",
            "tensor(2.)\n",
            "tensor(37044.)\n",
            "tensor(2.3381)\n",
            "tensor(5.4667)\n",
            "tensor(1)\n",
            "tensor(2)\n"
          ]
        }
      ]
    },
    {
      "cell_type": "code",
      "source": [
        "# matrix muiltiplication\n",
        "\n",
        "a1 = torch.tensor([[5,6,7], [3,4,6]])\n",
        "a2 = torch.tensor([[3,2,5],[5,9,6],[9,0, 7]])\n",
        "a2 = a2.to(torch.float32)\n",
        "a3 = torch.tensor([[3,2],[5,6],[0, 7]])\n",
        "\n",
        "\n",
        "print(f\"matmul: {torch.matmul(a1,a3)}\")\n",
        "\n",
        "# dot product\n",
        "v1 = torch.tensor([3,5,6])\n",
        "v2 = torch.tensor([5,6,7])\n",
        "print(f\"dot prod : {torch.dot(v1,v2)}\")\n",
        "print(torch.transpose(a1,0,1))\n",
        "\n",
        "# determinent\n",
        "print(torch.det(a2))    # only if sq mat\n",
        "\n",
        "# inverse\n",
        "print(torch.inverse(a2)) # only if sq mat"
      ],
      "metadata": {
        "colab": {
          "base_uri": "https://localhost:8080/"
        },
        "id": "zHc-Z8_P-p3t",
        "outputId": "0e703c67-7a4c-493e-817f-1b9abba54667"
      },
      "execution_count": 20,
      "outputs": [
        {
          "output_type": "stream",
          "name": "stdout",
          "text": [
            "matmul: tensor([[45, 95],\n",
            "        [29, 72]])\n",
            "dot prod : 87\n",
            "tensor([[5, 3],\n",
            "        [6, 4],\n",
            "        [7, 6]])\n",
            "tensor(-178.0000)\n",
            "tensor([[-0.3539,  0.0787,  0.1854],\n",
            "        [-0.1067,  0.1348, -0.0393],\n",
            "        [ 0.4551, -0.1011, -0.0955]])\n"
          ]
        }
      ]
    },
    {
      "cell_type": "code",
      "source": [
        "#comparision operations\n",
        "\n",
        "# i < j\n",
        "# i > j\n",
        "# i != j\n",
        "# i == j\n",
        "# i <= j\n",
        "# i >= j"
      ],
      "metadata": {
        "id": "EkoX1qVGCj7u"
      },
      "execution_count": 21,
      "outputs": []
    },
    {
      "cell_type": "markdown",
      "source": [
        "##special functions"
      ],
      "metadata": {
        "id": "tEPltY82D8on"
      }
    },
    {
      "cell_type": "code",
      "source": [
        "print(torch.log(g))\n",
        "print(torch.exp(g))\n",
        "print(torch.sqrt(g))\n",
        "print(torch.sigmoid(g))\n",
        "print(torch.softmax(g, dim=0)) # only for float type\n",
        "print(torch.relu(g))\n",
        "print(torch.tanh(g))"
      ],
      "metadata": {
        "colab": {
          "base_uri": "https://localhost:8080/"
        },
        "id": "6rCVkPfIDKPd",
        "outputId": "5672348d-c97c-4000-b6e5-ff19ecd66403"
      },
      "execution_count": 22,
      "outputs": [
        {
          "output_type": "stream",
          "name": "stdout",
          "text": [
            "tensor([[1.9459, 2.1972, 0.6931],\n",
            "        [1.7918, 1.9459, 1.9459]])\n",
            "tensor([[1.0966e+03, 8.1031e+03, 7.3891e+00],\n",
            "        [4.0343e+02, 1.0966e+03, 1.0966e+03]])\n",
            "tensor([[2.6458, 3.0000, 1.4142],\n",
            "        [2.4495, 2.6458, 2.6458]])\n",
            "tensor([[0.9991, 0.9999, 0.8808],\n",
            "        [0.9975, 0.9991, 0.9991]])\n",
            "tensor([[0.7311, 0.8808, 0.0067],\n",
            "        [0.2689, 0.1192, 0.9933]])\n",
            "tensor([[7., 9., 2.],\n",
            "        [6., 7., 7.]])\n",
            "tensor([[1.0000, 1.0000, 0.9640],\n",
            "        [1.0000, 1.0000, 1.0000]])\n"
          ]
        }
      ]
    },
    {
      "cell_type": "markdown",
      "source": [
        "##**slicing**"
      ],
      "metadata": {
        "id": "B786ZsihGQXK"
      }
    },
    {
      "cell_type": "code",
      "source": [
        "\n",
        "x = torch.rand(5,3)\n",
        "print(x)\n",
        "print(\"x[:, 0]\", x[:, 0]) # all rows col 0\n",
        "print(\"x[1, :]\", x[1, :]) # row 1 all cols\n",
        "print(\"x[1, 1]\", x[1, 1]) # element at 1,1\n",
        "\n",
        "# get actual value if only 1 ele in tensor\n",
        "print(\"x[1,1].item()\", x[1,1].item())"
      ],
      "metadata": {
        "colab": {
          "base_uri": "https://localhost:8080/"
        },
        "id": "I0Wp4_UICwbW",
        "outputId": "1a23a6df-737c-4ac8-b545-0dcf00ff5ed8"
      },
      "execution_count": 23,
      "outputs": [
        {
          "output_type": "stream",
          "name": "stdout",
          "text": [
            "tensor([[0.6896, 0.3687, 0.9053],\n",
            "        [0.8356, 0.3039, 0.6726],\n",
            "        [0.5740, 0.9233, 0.9178],\n",
            "        [0.7590, 0.7775, 0.6179],\n",
            "        [0.3379, 0.2170, 0.9454]])\n",
            "x[:, 0] tensor([0.6896, 0.8356, 0.5740, 0.7590, 0.3379])\n",
            "x[1, :] tensor([0.8356, 0.3039, 0.6726])\n",
            "x[1, 1] tensor(0.3039)\n",
            "x[1,1].item() 0.30390483140945435\n"
          ]
        }
      ]
    },
    {
      "cell_type": "code",
      "source": [
        "# for copying a tesnor w/o change in original tensor\n",
        "b = a2.clone()\n",
        "b"
      ],
      "metadata": {
        "colab": {
          "base_uri": "https://localhost:8080/"
        },
        "id": "Qyhkr9XtGeyr",
        "outputId": "e5163a2d-a19f-4f3b-f763-55de390b4fb0"
      },
      "execution_count": 24,
      "outputs": [
        {
          "output_type": "execute_result",
          "data": {
            "text/plain": [
              "tensor([[3., 2., 5.],\n",
              "        [5., 9., 6.],\n",
              "        [9., 0., 7.]])"
            ]
          },
          "metadata": {},
          "execution_count": 24
        }
      ]
    },
    {
      "cell_type": "code",
      "source": [
        "# Reshape with torch.view()\n",
        "\n",
        "# The torch.view() function in PyTorch is used to reshape a tensor without copying its data. It creates a new view of the original tensor with a different shape, as long as the tensor is contiguous in memory.\n",
        "# Since view() does not copy data, modifying the reshaped tensor will also affect the original tensor.\n",
        "# However, if the tensor is not contiguous, you may need to use .contiguous() before calling view().\n",
        "\n",
        "\n",
        "x = torch.rand(4,3)\n",
        "y = x.view(12)\n",
        "z = x.view(-1, 12) # the size -1 is inferred from other dimensions\n",
        "# if -1 it pytorch will autometically determine the necessary size\n",
        "print(x.size(), y.size(), z.size())"
      ],
      "metadata": {
        "colab": {
          "base_uri": "https://localhost:8080/"
        },
        "id": "SMfXUcy7CwYW",
        "outputId": "ddfc077b-ec78-4b24-8522-2cebf7888057"
      },
      "execution_count": 25,
      "outputs": [
        {
          "output_type": "stream",
          "name": "stdout",
          "text": [
            "torch.Size([4, 3]) torch.Size([12]) torch.Size([1, 12])\n"
          ]
        }
      ]
    },
    {
      "cell_type": "markdown",
      "source": [
        "In PyTorch, a tensor is contiguous when its elements are stored in memory without gaps, following their expected order. Contiguous tensors allow efficient reshaping and viewing without copying data.\n"
      ],
      "metadata": {
        "id": "IMVTfoQJNDM-"
      }
    },
    {
      "cell_type": "code",
      "source": [
        "# When you perform operations like transpose() or permute(), PyTorch may rearrange how the tensor is stored in memory\n",
        "# Even though the tensor looks different,\n",
        "# the underlying data may no longer be stored in a straightforward, contiguous order.\n",
        "\n",
        "tensor = torch.arange(12).view(3, 4)  # A 3x4 tensor\n",
        "transposed = tensor.t()  # Transpose the tensor\n",
        "\n",
        "print(transposed.is_contiguous())  # Check if it's contiguous (False)"
      ],
      "metadata": {
        "colab": {
          "base_uri": "https://localhost:8080/"
        },
        "id": "mZmN5zLaNCzj",
        "outputId": "0cdfd378-73e6-42e8-9229-bb010ce4969e"
      },
      "execution_count": 26,
      "outputs": [
        {
          "output_type": "stream",
          "name": "stdout",
          "text": [
            "False\n"
          ]
        }
      ]
    },
    {
      "cell_type": "code",
      "source": [
        "# Since .t() changes the memory layout, calling view() directly on transposed will fail. To fix this, you need .contiguous() before using view():\n",
        "contiguous_tensor = transposed.contiguous().view(4, 3)  # Now it works!\n",
        "\n",
        "\n",
        "# - Contiguous tensors allow reshaping with .view().\n",
        "# - Non-contiguous tensors (from operations like .transpose()) need .contiguous() first.\n",
        "# - .contiguous() creates a copy in a proper memory layout, allowing view() to work.\n"
      ],
      "metadata": {
        "id": "bfCMIAtVCwVq"
      },
      "execution_count": 27,
      "outputs": []
    },
    {
      "cell_type": "code",
      "source": [
        "# - reshape(): Tries to return a view when possible, but if that's not feasible (like when the tensor is not contiguous), it will create a copy.\n",
        "# - view() never creates a copy—it only works if the tensor is contiguous.\n",
        "# - If the tensor is not contiguous, view() will fail.\n",
        "# - .contiguous() does create a copy, making the tensor suitable for view().\n",
        "# So, if you need reshaping without copying, ensure the tensor is contiguous first. Otherwise, consider using reshape() instead, which can create a copy when needed.\n"
      ],
      "metadata": {
        "id": "bHcoX8SwCwS1"
      },
      "execution_count": 28,
      "outputs": []
    },
    {
      "cell_type": "code",
      "source": [
        "tensor = torch.arange(12).view(3, 4)  # Contiguous tensor\n",
        "transposed = tensor.t()  # Now it's non-contiguous\n",
        "\n",
        "print(transposed.is_contiguous())  # False\n",
        "\n",
        "# Trying view() will fail\n",
        "try:\n",
        "    transposed.view(4, 3)\n",
        "except RuntimeError as e:\n",
        "    print(f\"View failed: {e}\")\n",
        "\n",
        "# Using .contiguous() first will create a copy, allowing view() to work\n",
        "fixed_tensor = transposed.contiguous().view(4, 3)\n",
        "print(f\"Fixed tensor:\\n{fixed_tensor}\")"
      ],
      "metadata": {
        "colab": {
          "base_uri": "https://localhost:8080/"
        },
        "id": "HthuHA2CCwQo",
        "outputId": "7cdbd511-9eaa-46d8-c00b-01a2ddb76499"
      },
      "execution_count": 29,
      "outputs": [
        {
          "output_type": "stream",
          "name": "stdout",
          "text": [
            "False\n",
            "Fixed tensor:\n",
            "tensor([[ 0,  4,  8],\n",
            "        [ 1,  5,  9],\n",
            "        [ 2,  6, 10],\n",
            "        [ 3,  7, 11]])\n"
          ]
        }
      ]
    },
    {
      "cell_type": "code",
      "source": [
        "tensor.flatten()"
      ],
      "metadata": {
        "colab": {
          "base_uri": "https://localhost:8080/"
        },
        "id": "7tD1fQQ2J78d",
        "outputId": "3fd9f807-a99a-4052-a66a-d2f279c58b50"
      },
      "execution_count": 30,
      "outputs": [
        {
          "output_type": "execute_result",
          "data": {
            "text/plain": [
              "tensor([ 0,  1,  2,  3,  4,  5,  6,  7,  8,  9, 10, 11])"
            ]
          },
          "metadata": {},
          "execution_count": 30
        }
      ]
    },
    {
      "cell_type": "code",
      "source": [
        "f = torch.rand(2,3,4)\n",
        "f"
      ],
      "metadata": {
        "colab": {
          "base_uri": "https://localhost:8080/"
        },
        "id": "_tmBV72qKMno",
        "outputId": "172528e3-614f-4a7f-808e-af1a8cf9e9bd"
      },
      "execution_count": 31,
      "outputs": [
        {
          "output_type": "execute_result",
          "data": {
            "text/plain": [
              "tensor([[[0.0103, 0.9516, 0.2855, 0.2324],\n",
              "         [0.9141, 0.7668, 0.1659, 0.4393],\n",
              "         [0.2243, 0.8935, 0.0497, 0.1780]],\n",
              "\n",
              "        [[0.3011, 0.1893, 0.9186, 0.2131],\n",
              "         [0.3957, 0.6017, 0.4234, 0.5224],\n",
              "         [0.4175, 0.0340, 0.9157, 0.3079]]])"
            ]
          },
          "metadata": {},
          "execution_count": 31
        }
      ]
    },
    {
      "cell_type": "code",
      "source": [
        "# can change shape in any permutation\n",
        "# pass col row no\n",
        "f = f.permute(2,1,0)\n",
        "f"
      ],
      "metadata": {
        "colab": {
          "base_uri": "https://localhost:8080/"
        },
        "id": "Q6mzJ903Kiev",
        "outputId": "affa298d-e7d9-4e5b-d993-7d494a9838a0"
      },
      "execution_count": 32,
      "outputs": [
        {
          "output_type": "execute_result",
          "data": {
            "text/plain": [
              "tensor([[[0.0103, 0.3011],\n",
              "         [0.9141, 0.3957],\n",
              "         [0.2243, 0.4175]],\n",
              "\n",
              "        [[0.9516, 0.1893],\n",
              "         [0.7668, 0.6017],\n",
              "         [0.8935, 0.0340]],\n",
              "\n",
              "        [[0.2855, 0.9186],\n",
              "         [0.1659, 0.4234],\n",
              "         [0.0497, 0.9157]],\n",
              "\n",
              "        [[0.2324, 0.2131],\n",
              "         [0.4393, 0.5224],\n",
              "         [0.1780, 0.3079]]])"
            ]
          },
          "metadata": {},
          "execution_count": 32
        }
      ]
    },
    {
      "cell_type": "code",
      "source": [
        "f.shape"
      ],
      "metadata": {
        "colab": {
          "base_uri": "https://localhost:8080/"
        },
        "id": "jsVingcEK32q",
        "outputId": "b9d3bd33-2a22-42aa-a509-1353e8a0b1ec"
      },
      "execution_count": 33,
      "outputs": [
        {
          "output_type": "execute_result",
          "data": {
            "text/plain": [
              "torch.Size([4, 3, 2])"
            ]
          },
          "metadata": {},
          "execution_count": 33
        }
      ]
    },
    {
      "cell_type": "markdown",
      "source": [
        "##Tensor operation on GPU"
      ],
      "metadata": {
        "id": "6jIxGEKIG9re"
      }
    },
    {
      "cell_type": "code",
      "source": [
        "torch.cuda.is_available()"
      ],
      "metadata": {
        "id": "aam7J-0KCwNu",
        "colab": {
          "base_uri": "https://localhost:8080/"
        },
        "outputId": "6985b6fd-be1e-4225-99bc-88ab51a3334f"
      },
      "execution_count": 34,
      "outputs": [
        {
          "output_type": "execute_result",
          "data": {
            "text/plain": [
              "True"
            ]
          },
          "metadata": {},
          "execution_count": 34
        }
      ]
    },
    {
      "cell_type": "code",
      "source": [
        "device = torch.device('cuda')"
      ],
      "metadata": {
        "id": "GCM3z7y3CwLN"
      },
      "execution_count": 35,
      "outputs": []
    },
    {
      "cell_type": "code",
      "source": [
        "# creating tensor on gpu\n",
        "\n",
        "torch.rand((3,4), device =device)"
      ],
      "metadata": {
        "id": "xUPzROcGCwIu",
        "colab": {
          "base_uri": "https://localhost:8080/"
        },
        "outputId": "0cc38e40-7175-4a85-a98c-0e96bd96d670"
      },
      "execution_count": 36,
      "outputs": [
        {
          "output_type": "execute_result",
          "data": {
            "text/plain": [
              "tensor([[0.3563, 0.0303, 0.7088, 0.2009],\n",
              "        [0.0224, 0.9896, 0.3737, 0.0823],\n",
              "        [0.2851, 0.4433, 0.2989, 0.4175]], device='cuda:0')"
            ]
          },
          "metadata": {},
          "execution_count": 36
        }
      ]
    },
    {
      "cell_type": "code",
      "source": [
        "# moving existing tensors to gpu\n",
        "a1"
      ],
      "metadata": {
        "id": "1AYXOgadCwF9",
        "colab": {
          "base_uri": "https://localhost:8080/"
        },
        "outputId": "a085d193-7b49-4a3b-9711-b0b8e3594d11"
      },
      "execution_count": 37,
      "outputs": [
        {
          "output_type": "execute_result",
          "data": {
            "text/plain": [
              "tensor([[5, 6, 7],\n",
              "        [3, 4, 6]])"
            ]
          },
          "metadata": {},
          "execution_count": 37
        }
      ]
    },
    {
      "cell_type": "code",
      "source": [
        "u = a1.to(device)"
      ],
      "metadata": {
        "id": "d5K7WizJCv_W"
      },
      "execution_count": 38,
      "outputs": []
    },
    {
      "cell_type": "code",
      "source": [
        "u + 3"
      ],
      "metadata": {
        "colab": {
          "base_uri": "https://localhost:8080/"
        },
        "id": "1LjQ3s0cH4dU",
        "outputId": "7b2431f6-e279-46d0-deaf-57eae7c50621"
      },
      "execution_count": 39,
      "outputs": [
        {
          "output_type": "execute_result",
          "data": {
            "text/plain": [
              "tensor([[ 8,  9, 10],\n",
              "        [ 6,  7,  9]], device='cuda:0')"
            ]
          },
          "metadata": {},
          "execution_count": 39
        }
      ]
    },
    {
      "cell_type": "code",
      "source": [
        "import time\n",
        "\n",
        "#large size for performance comparision\n",
        "size = 10000 # size of matrices\n",
        "\n",
        "mat1_cpu = torch.randn(size, size)\n",
        "mat2_cpu = torch.randn(size, size)\n",
        "\n",
        "start_time = time.time()\n",
        "ans_cpu = torch.matmul(mat1_cpu, mat2_cpu)\n",
        "cpu_time = time.time() - start_time\n",
        "\n",
        "print(f\"time on cpu = {cpu_time}\")\n",
        "\n",
        "\n",
        "mat1_gpu = mat1_cpu.to('cuda')\n",
        "mat2_gpu = mat2_cpu.to('cuda')\n",
        "\n",
        "# measure time on gpu\n",
        "start_time = time.time()\n",
        "ans_gpu = torch.matmul(mat1_gpu, mat2_gpu)\n",
        "torch.cuda.synchronize()  # ensure all gpu operations are complete\n",
        "gpu_time = time.time() - start_time\n",
        "\n",
        "print(f\"time on gpu = {gpu_time}\")"
      ],
      "metadata": {
        "colab": {
          "base_uri": "https://localhost:8080/"
        },
        "id": "fUejQo0pH4Zz",
        "outputId": "d7be257a-4cce-4f16-dd53-8fd9a2f97177"
      },
      "execution_count": 40,
      "outputs": [
        {
          "output_type": "stream",
          "name": "stdout",
          "text": [
            "time on cpu = 16.09262442588806\n",
            "time on gpu = 0.6993536949157715\n"
          ]
        }
      ]
    },
    {
      "cell_type": "code",
      "source": [
        "# un squeeze\n",
        "# ek given pos pe naya dim add karta hai\n",
        "# used to convert image batches\n",
        "img = torch.rand(226,226,3)\n",
        "img.unsqueeze_(1).shape"
      ],
      "metadata": {
        "colab": {
          "base_uri": "https://localhost:8080/"
        },
        "id": "DorjTtmyH4W1",
        "outputId": "565f4ec1-40e9-447b-a619-44d6ea3dc53c"
      },
      "execution_count": 42,
      "outputs": [
        {
          "output_type": "execute_result",
          "data": {
            "text/plain": [
              "torch.Size([226, 1, 226, 3])"
            ]
          },
          "metadata": {},
          "execution_count": 42
        }
      ]
    },
    {
      "cell_type": "code",
      "source": [
        "d = torch.rand(1,20)\n",
        "d.squeeze(0).shape"
      ],
      "metadata": {
        "colab": {
          "base_uri": "https://localhost:8080/"
        },
        "id": "MtljIVcCZ_9V",
        "outputId": "2d8d1c34-5894-4f83-8ad8-9b0f91a313aa"
      },
      "execution_count": 49,
      "outputs": [
        {
          "output_type": "execute_result",
          "data": {
            "text/plain": [
              "torch.Size([20])"
            ]
          },
          "metadata": {},
          "execution_count": 49
        }
      ]
    },
    {
      "cell_type": "markdown",
      "source": [
        "## **NumPy & PyTorch**"
      ],
      "metadata": {
        "id": "H228ZEXBam1U"
      }
    },
    {
      "cell_type": "code",
      "source": [
        "import numpy as np"
      ],
      "metadata": {
        "id": "1O9ot6H3akkz"
      },
      "execution_count": 50,
      "outputs": []
    },
    {
      "cell_type": "code",
      "source": [
        "a = torch.tensor([1,2,3])\n",
        "b = a.numpy()\n",
        "\n",
        "print(type(b))\n",
        "print(type(a))"
      ],
      "metadata": {
        "colab": {
          "base_uri": "https://localhost:8080/"
        },
        "id": "l62IIavYakiE",
        "outputId": "47b2477a-611a-457c-bd32-f1289202b135"
      },
      "execution_count": 52,
      "outputs": [
        {
          "output_type": "stream",
          "name": "stdout",
          "text": [
            "<class 'numpy.ndarray'>\n",
            "<class 'torch.Tensor'>\n"
          ]
        }
      ]
    },
    {
      "cell_type": "code",
      "source": [
        "a = np.arange(21)\n",
        "b = torch.from_numpy(a)\n",
        "\n",
        "print(type(a))\n",
        "print(type(b))"
      ],
      "metadata": {
        "colab": {
          "base_uri": "https://localhost:8080/"
        },
        "id": "veqIFB-JakfS",
        "outputId": "08154a0a-b5fd-4489-c7c6-da365d5ae8b9"
      },
      "execution_count": 54,
      "outputs": [
        {
          "output_type": "stream",
          "name": "stdout",
          "text": [
            "<class 'numpy.ndarray'>\n",
            "<class 'torch.Tensor'>\n"
          ]
        }
      ]
    }
  ]
}